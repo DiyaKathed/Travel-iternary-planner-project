{
 "cells": [
  {
   "cell_type": "code",
   "execution_count": 23,
   "id": "74598203-7b6b-4186-b722-55c486bc96ef",
   "metadata": {},
   "outputs": [
    {
     "name": "stdout",
     "output_type": "stream",
     "text": [
      "\n",
      "---- Welcome to Smart Travel Planner ----\n"
     ]
    },
    {
     "name": "stdin",
     "output_type": "stream",
     "text": [
      "Enter your current city:  pune\n",
      "Enter the city you want to explore:  mumbai\n"
     ]
    },
    {
     "name": "stdout",
     "output_type": "stream",
     "text": [
      "\n",
      "Distance between Pune and Mumbai: 119.49 km\n"
     ]
    },
    {
     "name": "stdin",
     "output_type": "stream",
     "text": [
      "Enter your maximum budget:  20000\n",
      "Enter number of days:  4\n",
      "Enter number of people:  8\n"
     ]
    },
    {
     "name": "stdout",
     "output_type": "stream",
     "text": [
      "Available ways of transport: ['Car', 'Bus', 'Train', 'Airline']\n"
     ]
    },
    {
     "name": "stdin",
     "output_type": "stream",
     "text": [
      "Enter transport mode:  Car\n"
     ]
    },
    {
     "name": "stdout",
     "output_type": "stream",
     "text": [
      "Available food plans: ['Breakfast', 'Lunch', 'Dinner']\n"
     ]
    },
    {
     "name": "stdin",
     "output_type": "stream",
     "text": [
      "Enter food plan:  Lunch\n"
     ]
    },
    {
     "name": "stdout",
     "output_type": "stream",
     "text": [
      "Available stay plans: ['Normal', 'Premium', 'Luxury']\n"
     ]
    },
    {
     "name": "stdin",
     "output_type": "stream",
     "text": [
      "Enter stay type:  Normal\n",
      "Enter number of rooms:  4\n"
     ]
    },
    {
     "name": "stdout",
     "output_type": "stream",
     "text": [
      "\n",
      "Travel Cost: ₹3584.82\n",
      "Travel cost per person:₹448.10\n",
      "Food Cost: ₹2400.00\n",
      "Food Cost per person: ₹300.00\n",
      "Stay Cost: ₹8000.00\n",
      "Stay Cost per person: ₹1000.00\n",
      "Total Trip Cost: ₹13984.82\n",
      "\n",
      "✅ You're within the budget. Enjoy your trip!\n",
      "\n",
      "Recommended Hotels:\n",
      " - The Taj Mahal Palace\n",
      " - The Oberoi Mumbai\n",
      " - The Westin Mumbai Powai Lake\n",
      " - ITC Grand Central\n",
      "\n",
      "1. Tourist Places\n",
      "2. Shopping Malls\n",
      "3. Movie Theaters\n"
     ]
    },
    {
     "name": "stdin",
     "output_type": "stream",
     "text": [
      "Choose a category to explore (1/2/3):  1\n"
     ]
    },
    {
     "name": "stdout",
     "output_type": "stream",
     "text": [
      "\n",
      "Places To Visit in Mumbai:\n",
      " - Gateway of India\n",
      " - Marine Drive\n",
      " - Elephanta Caves\n",
      " - Siddhivinayak Temple\n"
     ]
    },
    {
     "name": "stdin",
     "output_type": "stream",
     "text": [
      "Enter the number to know more (optional):  1\n"
     ]
    },
    {
     "name": "stdout",
     "output_type": "stream",
     "text": [
      "\n",
      "You selected: Gateway of India\n"
     ]
    },
    {
     "name": "stdin",
     "output_type": "stream",
     "text": [
      "\n",
      "Rate your experience out of 5:  5\n"
     ]
    },
    {
     "name": "stdout",
     "output_type": "stream",
     "text": [
      "Thank you! You rated this trip: 5/5\n"
     ]
    }
   ],
   "source": [
    "from geopy.geocoders import Nominatim\n",
    "from geopy.distance import geodesic\n",
    "\n",
    "# Dictionaries for cost\n",
    "Transport = {'Car': 15, 'Bus': 6, 'Train': 1, 'Airline': 100}\n",
    "Food = {'Breakfast': 50, 'Lunch': 75, 'Dinner': 100}\n",
    "stay = {'Normal': 500, 'Premium': 750, 'Luxury': 1000}\n",
    "\n",
    "# City data\n",
    "CITY_DATA = {\n",
    "    \"mumbai\": {\n",
    "        \"places_to_visit\": [\"Gateway of India\", \"Marine Drive\", \"Elephanta Caves\", \"Siddhivinayak Temple\"],\n",
    "        \"shopping_malls\": [\"Phoenix Marketcity\", \"R City Mall\", \"Inorbit Mall\", \"Oberoi Mall\"],\n",
    "        \"movie_theaters\": [\"Eros Cinema\", \"Maratha Mandir\", \"PVR\", \"INOX\"],\n",
    "        \"Hotels\": [\"The Taj Mahal Palace\", \"The Oberoi Mumbai\", \"The Westin Mumbai Powai Lake\", \"ITC Grand Central\"]\n",
    "    },\n",
    "    \"delhi\": {\n",
    "        \"places_to_visit\": [\"India Gate\", \"Red Fort\", \"Qutub Minar\", \"Lotus Temple\"],\n",
    "        \"shopping_malls\": [\"Select Citywalk\", \"DLF Promenade\", \"Ambience Mall\", \"Pacific Mall\"],\n",
    "        \"movie_theaters\": [\"PVR\", \"INOX\", \"Cinepolis\", \"Carnival Cinemas\"],\n",
    "        \"Hotels\": [\"The Imperial New Delhi\", \"Taj Palace\", \"The Lodhi\", \"The Leela Palace\"]\n",
    "    },\n",
    "    \"bangalore\": {\n",
    "        \"places_to_visit\": [\"Lalbagh Botanical Garden\", \"Cubbon Park\", \"Bangalore Palace\", \"ISKCON Temple\"],\n",
    "        \"shopping_malls\": [\"Orion Mall\", \"Phoenix Marketcity\", \"Forum Mall\", \"UB City\"],\n",
    "        \"movie_theaters\": [\"Mukunda Theatre\", \"Srinivasa Theatre\", \"Urvashi Theatre\"],\n",
    "        \"Hotels\": [\"Taj West End\", \"The Ritz-Carlton\", \"Shangri-La Bengaluru\", \"Radisson Blu Atria Bengaluru\"]\n",
    "    },\n",
    "    \"pune\": {\n",
    "        \"places_to_visit\": [\"Shaniwar Wada\", \"Aga Khan Palace\", \"Sinhagad Fort\", \"Pataleshwar Cave Temple\"],\n",
    "        \"shopping_malls\": [\"Phoenix Marketcity\", \"Amanora Mall\", \"Seasons Mall\", \"SGS Mall\"],\n",
    "        \"movie_theaters\": [\"City Pride Multiplex\", \"Cinepolis\", \"Carnival Cinemas\"],\n",
    "        \"Hotels\": [\"JW Marriott Pune\", \"Hyatt Pune\", \"Conrad Pune\", \"The Westin Pune Koregaon Park\"]\n",
    "    }\n",
    "}\n",
    "\n",
    "def get_city_info(city):\n",
    "    return CITY_DATA.get(city.lower())\n",
    "\n",
    "def calculate_distance(city1, city2):\n",
    "    geolocator = Nominatim(user_agent=\"my_app\")\n",
    "    try:\n",
    "        coord1 = geolocator.geocode(city1)\n",
    "        coord2 = geolocator.geocode(city2)\n",
    "        if coord1 and coord2:\n",
    "            return geodesic((coord1.latitude, coord1.longitude), (coord2.latitude, coord2.longitude)).km\n",
    "    except:\n",
    "        pass\n",
    "    return None\n",
    "\n",
    "def get_valid_input(prompt, options):\n",
    "    while True:\n",
    "        choice = input(prompt).strip().title()\n",
    "        if choice in options:\n",
    "            return choice\n",
    "        print(\"Invalid input. Please try again.\")\n",
    "\n",
    "def calculate_costs(distance, transport, food_plan, stay_type, days, people, rooms):\n",
    "    if transport == \"Car\":\n",
    "        travel_total = 2 * Transport[transport] * distance\n",
    "    else:\n",
    "        travel_total = 2 * Transport[transport] * distance * people\n",
    "\n",
    "    food_total = Food[food_plan] * days * people\n",
    "    stay_total = stay[stay_type] * days * rooms\n",
    "\n",
    "    return travel_total, food_total, stay_total\n",
    "\n",
    "def display_city_info(city):\n",
    "    info = get_city_info(city)\n",
    "    if not info:\n",
    "        print(\"\\nSorry, we don't have data for this city.\")\n",
    "        return\n",
    "\n",
    "    print(\"\\n1. Tourist Places\\n2. Shopping Malls\\n3. Movie Theaters\")\n",
    "    choice = input(\"Choose a category to explore (1/2/3): \")\n",
    "    categories = {\"1\": \"places_to_visit\", \"2\": \"shopping_malls\", \"3\": \"movie_theaters\"}\n",
    "\n",
    "    if choice in categories:\n",
    "        print(f\"\\n{categories[choice].replace('_', ' ').title()} in {city.title()}:\")\n",
    "        for place in info[categories[choice]]:\n",
    "            print(\" -\", place)\n",
    "\n",
    "        index = input(\"Enter the number to know more (optional): \")\n",
    "        if index.isdigit():\n",
    "            i = int(index) - 1\n",
    "            if 0 <= i < len(info[categories[choice]]):\n",
    "                print(f\"\\nYou selected: {info[categories[choice]][i]}\")\n",
    "    else:\n",
    "        print(\"Invalid choice.\")\n",
    "\n",
    "def cost_estimator(distance, city):\n",
    "    info = get_city_info(city)\n",
    "    max_budget = int(input(\"Enter your maximum budget: \"))\n",
    "    days = int(input(\"Enter number of days: \"))\n",
    "    people = int(input(\"Enter number of people: \"))\n",
    "\n",
    "    print(\"Available ways of transport:\", list(Transport.keys()))\n",
    "    transport = get_valid_input(\"Enter transport mode: \", Transport)\n",
    "    print(\"Available food plans:\", list(Food.keys()))\n",
    "    food_plan = get_valid_input(\"Enter food plan: \", Food)\n",
    "    print(\"Available stay plans:\", list(stay.keys()))\n",
    "    stay_type = get_valid_input(\"Enter stay type: \", stay)\n",
    "    rooms = int(input(\"Enter number of rooms: \"))\n",
    "\n",
    "    travel, food, hotel = calculate_costs(distance, transport, food_plan, stay_type, days, people, rooms)\n",
    "    total = travel + food + hotel\n",
    "\n",
    "    print(f\"\\nTravel Cost: ₹{travel:.2f}\\nTravel cost per person:₹{travel/people:.2f}\\nFood Cost: ₹{food:.2f}\\nFood Cost per person: ₹{food/people:.2f}\\nStay Cost: ₹{hotel:.2f}\\nStay Cost per person: ₹{hotel/people:.2f}\")\n",
    "    print(f\"Total Trip Cost: ₹{total:.2f}\")\n",
    "\n",
    "    if total > max_budget:\n",
    "        print(\"\\n⚠️ Your plan exceeds the budget!\")\n",
    "    else:\n",
    "        print(\"\\n✅ You're within the budget. Enjoy your trip!\")\n",
    "\n",
    "    if info:\n",
    "        print(\"\\nRecommended Hotels:\")\n",
    "        for h in info[\"Hotels\"]:\n",
    "            print(\" -\", h)\n",
    "\n",
    "def travel_planner():\n",
    "    print(\"\\n---- Welcome to Smart Travel Planner ----\")\n",
    "    city1 = input(\"Enter your current city: \").strip().title()\n",
    "    city2 = input(\"Enter the city you want to explore: \").strip().title()\n",
    "\n",
    "    distance = calculate_distance(city1, city2)\n",
    "    if distance is None:\n",
    "        print(\"\\nCould not calculate distance. Check city names.\")\n",
    "        return\n",
    "\n",
    "    print(f\"\\nDistance between {city1} and {city2}: {distance:.2f} km\")\n",
    "    cost_estimator(distance, city2)\n",
    "    display_city_info(city2)\n",
    "    rating = input(\"\\nRate your experience out of 5: \")\n",
    "    print(f\"Thank you! You rated this trip: {rating}/5\")\n",
    "\n",
    "if __name__ == \"__main__\":\n",
    "    travel_planner()\n"
   ]
  },
  {
   "cell_type": "code",
   "execution_count": null,
   "id": "b3d900dc-0ae6-410e-9f77-d222ba59c192",
   "metadata": {},
   "outputs": [],
   "source": []
  }
 ],
 "metadata": {
  "kernelspec": {
   "display_name": "Python [conda env:base] *",
   "language": "python",
   "name": "conda-base-py"
  },
  "language_info": {
   "codemirror_mode": {
    "name": "ipython",
    "version": 3
   },
   "file_extension": ".py",
   "mimetype": "text/x-python",
   "name": "python",
   "nbconvert_exporter": "python",
   "pygments_lexer": "ipython3",
   "version": "3.12.7"
  }
 },
 "nbformat": 4,
 "nbformat_minor": 5
}
